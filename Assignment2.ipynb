{
 "cells": [
  {
   "cell_type": "markdown",
   "metadata": {},
   "source": [
    "### Imports"
   ]
  },
  {
   "cell_type": "code",
   "execution_count": 2,
   "metadata": {},
   "outputs": [],
   "source": [
    "import pandas as pd\n",
    "import csv\n",
    "import os\n",
    "import gzip"
   ]
  },
  {
   "cell_type": "markdown",
   "metadata": {},
   "source": [
    "## 1. Describe the Dataset"
   ]
  },
  {
   "cell_type": "markdown",
   "metadata": {},
   "source": [
    "Dataset download link: https://cseweb.ucsd.edu/~jmcauley/datasets.html#multi_aspect"
   ]
  },
  {
   "cell_type": "code",
   "execution_count": 3,
   "metadata": {},
   "outputs": [],
   "source": [
    "def json_to_csv(input_file, output_file, line_limit=None):\n",
    "    \"\"\"\n",
    "    Converts a JSON-like file (or a .gz file containing JSON-like data) with dictionaries on each line into a CSV file.\n",
    "\n",
    "    Args:\n",
    "        input_file (str): Path to the input JSON-like or .gz file.\n",
    "        output_file (str): Path to the output CSV file.\n",
    "        line_limit (int, optional): Maximum number of lines to process. Default is None (process all lines).\n",
    "    \"\"\"\n",
    "    # Check if the output CSV file already exists\n",
    "    if os.path.exists(output_file):\n",
    "        print(f\"CSV file '{output_file}' already exists. Skipping conversion.\")\n",
    "        return\n",
    "\n",
    "    data = []\n",
    "    try:\n",
    "        # Open the input file\n",
    "        open_file = gzip.open if input_file.endswith('.gz') else open\n",
    "\n",
    "        with open_file(input_file, 'rt', encoding='utf-8') as file:\n",
    "            for i, line in enumerate(file):\n",
    "                if line_limit and i >= line_limit:  # Stop after reaching the line limit\n",
    "                    break\n",
    "                try:\n",
    "                    line = line.strip().rstrip(',')  # Remove whitespace and trailing commas\n",
    "                    entry = eval(line)  # Safely parse the line as a dictionary\n",
    "                    data.append(entry)  # Add the dictionary to the data list\n",
    "                except Exception as e:\n",
    "                    print(f\"Error parsing line {i+1}: {line} -> {e}\")\n",
    "\n",
    "        # Write to CSV if data is successfully parsed\n",
    "        if data:\n",
    "            with open(output_file, 'w', newline='', encoding='utf-8') as csv_file:\n",
    "                writer = csv.writer(csv_file)\n",
    "\n",
    "                # Write header\n",
    "                header = data[0].keys()\n",
    "                writer.writerow(header)\n",
    "\n",
    "                # Write rows\n",
    "                for row in data:\n",
    "                    writer.writerow(row.values())\n",
    "\n",
    "            print(f\"Data successfully written to {output_file}.\")\n",
    "        else:\n",
    "            print(\"No valid data found to write to CSV.\")\n",
    "    except Exception as e:\n",
    "        print(f\"Error processing file: {e}\")"
   ]
  },
  {
   "cell_type": "code",
   "execution_count": null,
   "metadata": {},
   "outputs": [
    {
     "name": "stdout",
     "output_type": "stream",
     "text": [
      "Data successfully written to ratebeer_20k.csv.\n"
     ]
    }
   ],
   "source": [
    "input_file = 'ratebeer.json.gz'\n",
    "output_file = 'ratebeer_20k.csv'\n",
    "line_limit = 20000\n",
    "\n",
    "json_to_csv(input_file, output_file, line_limit)"
   ]
  },
  {
   "cell_type": "markdown",
   "metadata": {},
   "source": [
    "If we convert the entire dataset into a csv file, the resulting file will be too large, thus we have decide to only use the first 20,000 samples for our project."
   ]
  },
  {
   "cell_type": "markdown",
   "metadata": {},
   "source": [
    "### Loading the dataset"
   ]
  },
  {
   "cell_type": "code",
   "execution_count": 6,
   "metadata": {},
   "outputs": [
    {
     "data": {
      "text/html": [
       "<div>\n",
       "<style scoped>\n",
       "    .dataframe tbody tr th:only-of-type {\n",
       "        vertical-align: middle;\n",
       "    }\n",
       "\n",
       "    .dataframe tbody tr th {\n",
       "        vertical-align: top;\n",
       "    }\n",
       "\n",
       "    .dataframe thead th {\n",
       "        text-align: right;\n",
       "    }\n",
       "</style>\n",
       "<table border=\"1\" class=\"dataframe\">\n",
       "  <thead>\n",
       "    <tr style=\"text-align: right;\">\n",
       "      <th></th>\n",
       "      <th>beer/name</th>\n",
       "      <th>beer/beerId</th>\n",
       "      <th>beer/brewerId</th>\n",
       "      <th>beer/ABV</th>\n",
       "      <th>beer/style</th>\n",
       "      <th>review/appearance</th>\n",
       "      <th>review/aroma</th>\n",
       "      <th>review/palate</th>\n",
       "      <th>review/taste</th>\n",
       "      <th>review/overall</th>\n",
       "      <th>review/time</th>\n",
       "      <th>review/profileName</th>\n",
       "      <th>review/text</th>\n",
       "    </tr>\n",
       "  </thead>\n",
       "  <tbody>\n",
       "    <tr>\n",
       "      <th>0</th>\n",
       "      <td>John Harvards Simcoe IPA</td>\n",
       "      <td>63836</td>\n",
       "      <td>8481</td>\n",
       "      <td>5.4</td>\n",
       "      <td>India Pale Ale &amp;#40;IPA&amp;#41;</td>\n",
       "      <td>4/5</td>\n",
       "      <td>6/10</td>\n",
       "      <td>3/5</td>\n",
       "      <td>6/10</td>\n",
       "      <td>13/20</td>\n",
       "      <td>1157587200</td>\n",
       "      <td>hopdog</td>\n",
       "      <td>On tap at the Springfield, PA location. Poured...</td>\n",
       "    </tr>\n",
       "    <tr>\n",
       "      <th>1</th>\n",
       "      <td>John Harvards Simcoe IPA</td>\n",
       "      <td>63836</td>\n",
       "      <td>8481</td>\n",
       "      <td>5.4</td>\n",
       "      <td>India Pale Ale &amp;#40;IPA&amp;#41;</td>\n",
       "      <td>4/5</td>\n",
       "      <td>6/10</td>\n",
       "      <td>4/5</td>\n",
       "      <td>7/10</td>\n",
       "      <td>13/20</td>\n",
       "      <td>1157241600</td>\n",
       "      <td>TomDecapolis</td>\n",
       "      <td>On tap at the John Harvards in Springfield PA....</td>\n",
       "    </tr>\n",
       "    <tr>\n",
       "      <th>2</th>\n",
       "      <td>John Harvards Cristal Pilsner</td>\n",
       "      <td>71716</td>\n",
       "      <td>8481</td>\n",
       "      <td>5</td>\n",
       "      <td>Bohemian Pilsener</td>\n",
       "      <td>4/5</td>\n",
       "      <td>5/10</td>\n",
       "      <td>3/5</td>\n",
       "      <td>6/10</td>\n",
       "      <td>14/20</td>\n",
       "      <td>958694400</td>\n",
       "      <td>PhillyBeer2112</td>\n",
       "      <td>UPDATED: FEB 19, 2003 Springfield, PA. I've ne...</td>\n",
       "    </tr>\n",
       "    <tr>\n",
       "      <th>3</th>\n",
       "      <td>John Harvards Fancy Lawnmower Beer</td>\n",
       "      <td>64125</td>\n",
       "      <td>8481</td>\n",
       "      <td>5.4</td>\n",
       "      <td>Klsch</td>\n",
       "      <td>2/5</td>\n",
       "      <td>4/10</td>\n",
       "      <td>2/5</td>\n",
       "      <td>4/10</td>\n",
       "      <td>8/20</td>\n",
       "      <td>1157587200</td>\n",
       "      <td>TomDecapolis</td>\n",
       "      <td>On tap the Springfield PA location billed as t...</td>\n",
       "    </tr>\n",
       "    <tr>\n",
       "      <th>4</th>\n",
       "      <td>John Harvards Fancy Lawnmower Beer</td>\n",
       "      <td>64125</td>\n",
       "      <td>8481</td>\n",
       "      <td>5.4</td>\n",
       "      <td>Klsch</td>\n",
       "      <td>2/5</td>\n",
       "      <td>4/10</td>\n",
       "      <td>2/5</td>\n",
       "      <td>4/10</td>\n",
       "      <td>8/20</td>\n",
       "      <td>1157587200</td>\n",
       "      <td>hopdog</td>\n",
       "      <td>On tap at the Springfield, PA location. Poured...</td>\n",
       "    </tr>\n",
       "  </tbody>\n",
       "</table>\n",
       "</div>"
      ],
      "text/plain": [
       "                            beer/name  beer/beerId  beer/brewerId beer/ABV  \\\n",
       "0            John Harvards Simcoe IPA        63836           8481      5.4   \n",
       "1            John Harvards Simcoe IPA        63836           8481      5.4   \n",
       "2       John Harvards Cristal Pilsner        71716           8481        5   \n",
       "3  John Harvards Fancy Lawnmower Beer        64125           8481      5.4   \n",
       "4  John Harvards Fancy Lawnmower Beer        64125           8481      5.4   \n",
       "\n",
       "                     beer/style review/appearance review/aroma review/palate  \\\n",
       "0  India Pale Ale &#40;IPA&#41;               4/5         6/10           3/5   \n",
       "1  India Pale Ale &#40;IPA&#41;               4/5         6/10           4/5   \n",
       "2             Bohemian Pilsener               4/5         5/10           3/5   \n",
       "3                         Klsch               2/5         4/10           2/5   \n",
       "4                         Klsch               2/5         4/10           2/5   \n",
       "\n",
       "  review/taste review/overall  review/time review/profileName  \\\n",
       "0         6/10          13/20   1157587200             hopdog   \n",
       "1         7/10          13/20   1157241600       TomDecapolis   \n",
       "2         6/10          14/20    958694400     PhillyBeer2112   \n",
       "3         4/10           8/20   1157587200       TomDecapolis   \n",
       "4         4/10           8/20   1157587200             hopdog   \n",
       "\n",
       "                                         review/text  \n",
       "0  On tap at the Springfield, PA location. Poured...  \n",
       "1  On tap at the John Harvards in Springfield PA....  \n",
       "2  UPDATED: FEB 19, 2003 Springfield, PA. I've ne...  \n",
       "3  On tap the Springfield PA location billed as t...  \n",
       "4  On tap at the Springfield, PA location. Poured...  "
      ]
     },
     "execution_count": 6,
     "metadata": {},
     "output_type": "execute_result"
    }
   ],
   "source": [
    "df = pd.read_csv('ratebeer_20k.csv')\n",
    "df.head()"
   ]
  },
  {
   "cell_type": "code",
   "execution_count": 7,
   "metadata": {},
   "outputs": [
    {
     "name": "stdout",
     "output_type": "stream",
     "text": [
      "<class 'pandas.core.frame.DataFrame'>\n",
      "RangeIndex: 20000 entries, 0 to 19999\n",
      "Data columns (total 13 columns):\n",
      " #   Column              Non-Null Count  Dtype \n",
      "---  ------              --------------  ----- \n",
      " 0   beer/name           20000 non-null  object\n",
      " 1   beer/beerId         20000 non-null  int64 \n",
      " 2   beer/brewerId       20000 non-null  int64 \n",
      " 3   beer/ABV            20000 non-null  object\n",
      " 4   beer/style          20000 non-null  object\n",
      " 5   review/appearance   20000 non-null  object\n",
      " 6   review/aroma        20000 non-null  object\n",
      " 7   review/palate       20000 non-null  object\n",
      " 8   review/taste        20000 non-null  object\n",
      " 9   review/overall      20000 non-null  object\n",
      " 10  review/time         20000 non-null  int64 \n",
      " 11  review/profileName  20000 non-null  object\n",
      " 12  review/text         19953 non-null  object\n",
      "dtypes: int64(3), object(10)\n",
      "memory usage: 2.0+ MB\n"
     ]
    }
   ],
   "source": [
    "df.info()"
   ]
  },
  {
   "cell_type": "code",
   "execution_count": 8,
   "metadata": {},
   "outputs": [
    {
     "data": {
      "text/html": [
       "<div>\n",
       "<style scoped>\n",
       "    .dataframe tbody tr th:only-of-type {\n",
       "        vertical-align: middle;\n",
       "    }\n",
       "\n",
       "    .dataframe tbody tr th {\n",
       "        vertical-align: top;\n",
       "    }\n",
       "\n",
       "    .dataframe thead th {\n",
       "        text-align: right;\n",
       "    }\n",
       "</style>\n",
       "<table border=\"1\" class=\"dataframe\">\n",
       "  <thead>\n",
       "    <tr style=\"text-align: right;\">\n",
       "      <th></th>\n",
       "      <th>beer/beerId</th>\n",
       "      <th>beer/brewerId</th>\n",
       "      <th>review/time</th>\n",
       "    </tr>\n",
       "  </thead>\n",
       "  <tbody>\n",
       "    <tr>\n",
       "      <th>count</th>\n",
       "      <td>20000.00000</td>\n",
       "      <td>20000.000000</td>\n",
       "      <td>2.000000e+04</td>\n",
       "    </tr>\n",
       "    <tr>\n",
       "      <th>mean</th>\n",
       "      <td>34339.39055</td>\n",
       "      <td>2248.659500</td>\n",
       "      <td>1.197787e+09</td>\n",
       "    </tr>\n",
       "    <tr>\n",
       "      <th>std</th>\n",
       "      <td>41020.66295</td>\n",
       "      <td>2667.682527</td>\n",
       "      <td>8.294843e+07</td>\n",
       "    </tr>\n",
       "    <tr>\n",
       "      <th>min</th>\n",
       "      <td>51.00000</td>\n",
       "      <td>12.000000</td>\n",
       "      <td>9.567072e+08</td>\n",
       "    </tr>\n",
       "    <tr>\n",
       "      <th>25%</th>\n",
       "      <td>53.00000</td>\n",
       "      <td>12.000000</td>\n",
       "      <td>1.143590e+09</td>\n",
       "    </tr>\n",
       "    <tr>\n",
       "      <th>50%</th>\n",
       "      <td>14228.00000</td>\n",
       "      <td>1179.000000</td>\n",
       "      <td>1.206230e+09</td>\n",
       "    </tr>\n",
       "    <tr>\n",
       "      <th>75%</th>\n",
       "      <td>63820.00000</td>\n",
       "      <td>3324.000000</td>\n",
       "      <td>1.264378e+09</td>\n",
       "    </tr>\n",
       "    <tr>\n",
       "      <th>max</th>\n",
       "      <td>162988.00000</td>\n",
       "      <td>13519.000000</td>\n",
       "      <td>1.326326e+09</td>\n",
       "    </tr>\n",
       "  </tbody>\n",
       "</table>\n",
       "</div>"
      ],
      "text/plain": [
       "        beer/beerId  beer/brewerId   review/time\n",
       "count   20000.00000   20000.000000  2.000000e+04\n",
       "mean    34339.39055    2248.659500  1.197787e+09\n",
       "std     41020.66295    2667.682527  8.294843e+07\n",
       "min        51.00000      12.000000  9.567072e+08\n",
       "25%        53.00000      12.000000  1.143590e+09\n",
       "50%     14228.00000    1179.000000  1.206230e+09\n",
       "75%     63820.00000    3324.000000  1.264378e+09\n",
       "max    162988.00000   13519.000000  1.326326e+09"
      ]
     },
     "execution_count": 8,
     "metadata": {},
     "output_type": "execute_result"
    }
   ],
   "source": [
    "df.describe()"
   ]
  },
  {
   "cell_type": "code",
   "execution_count": 9,
   "metadata": {},
   "outputs": [
    {
     "data": {
      "text/plain": [
       "beer/name              0\n",
       "beer/beerId            0\n",
       "beer/brewerId          0\n",
       "beer/ABV               0\n",
       "beer/style             0\n",
       "review/appearance      0\n",
       "review/aroma           0\n",
       "review/palate          0\n",
       "review/taste           0\n",
       "review/overall         0\n",
       "review/time            0\n",
       "review/profileName     0\n",
       "review/text           47\n",
       "dtype: int64"
      ]
     },
     "execution_count": 9,
     "metadata": {},
     "output_type": "execute_result"
    }
   ],
   "source": [
    "df.isnull().sum()"
   ]
  },
  {
   "cell_type": "markdown",
   "metadata": {},
   "source": [
    "## 2. Identify a Predictive Task on our Dataset\n",
    "\n",
    "For this dataset, our group decide to make a predictor for the overall rating of a beer, based on the text review of the users.\n"
   ]
  },
  {
   "cell_type": "code",
   "execution_count": null,
   "metadata": {},
   "outputs": [],
   "source": []
  }
 ],
 "metadata": {
  "kernelspec": {
   "display_name": "Python 3",
   "language": "python",
   "name": "python3"
  },
  "language_info": {
   "codemirror_mode": {
    "name": "ipython",
    "version": 3
   },
   "file_extension": ".py",
   "mimetype": "text/x-python",
   "name": "python",
   "nbconvert_exporter": "python",
   "pygments_lexer": "ipython3",
   "version": "3.9.6"
  }
 },
 "nbformat": 4,
 "nbformat_minor": 2
}
