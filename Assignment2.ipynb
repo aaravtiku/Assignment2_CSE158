{
 "cells": [
  {
   "cell_type": "markdown",
   "metadata": {},
   "source": [
    "### Imports"
   ]
  },
  {
   "cell_type": "code",
   "execution_count": 1,
   "metadata": {},
   "outputs": [],
   "source": [
    "import pandas as pd\n",
    "import csv\n",
    "import os\n",
    "import gzip"
   ]
  },
  {
   "cell_type": "markdown",
   "metadata": {},
   "source": [
    "## 1. Describe the Dataset"
   ]
  },
  {
   "cell_type": "markdown",
   "metadata": {},
   "source": [
    "Dataset download link: https://cseweb.ucsd.edu/~jmcauley/datasets.html#multi_aspect"
   ]
  },
  {
   "cell_type": "code",
   "execution_count": 2,
   "metadata": {},
   "outputs": [],
   "source": [
    "def json_to_csv(input_file, output_file, line_start, line_end):\n",
    "    \"\"\"\n",
    "    Converts a JSON-like file (or a .gz file containing JSON-like data) with dictionaries on each line into a CSV file.\n",
    "\n",
    "    Args:\n",
    "        input_file (str): Path to the input JSON-like or .gz file.\n",
    "        output_file (str): Path to the output CSV file.\n",
    "        line_limit (int, optional): Maximum number of lines to process. Default is None (process all lines).\n",
    "    \"\"\"\n",
    "    # Check if the output CSV file already exists\n",
    "    if os.path.exists(output_file):\n",
    "        print(f\"CSV file '{output_file}' already exists. Skipping conversion.\")\n",
    "        return\n",
    "\n",
    "    data = []\n",
    "    try:\n",
    "        # Open the input file\n",
    "        open_file = gzip.open if input_file.endswith('.gz') else open\n",
    "\n",
    "        with open_file(input_file, 'rt', encoding='utf-8') as file:\n",
    "            for i, line in enumerate(file):\n",
    "                if i < line_start:\n",
    "                    continue\n",
    "                if i >= line_end:  # Stop after reaching the line limit\n",
    "                    break\n",
    "                try:\n",
    "                    line = line.strip().rstrip(',')  # Remove whitespace and trailing commas\n",
    "                    entry = eval(line)  # Safely parse the line as a dictionary\n",
    "                    data.append(entry)  # Add the dictionary to the data list\n",
    "                except Exception as e:\n",
    "                    print(f\"Error parsing line {i+1}: {line} -> {e}\")\n",
    "\n",
    "        # Write to CSV if data is successfully parsed\n",
    "        if data:\n",
    "            with open(output_file, 'w', newline='', encoding='utf-8') as csv_file:\n",
    "                writer = csv.writer(csv_file)\n",
    "\n",
    "                # Write header\n",
    "                header = data[0].keys()\n",
    "                writer.writerow(header)\n",
    "\n",
    "                # Write rows\n",
    "                for row in data:\n",
    "                    writer.writerow(row.values())\n",
    "\n",
    "            print(f\"Data successfully written to {output_file}.\")\n",
    "        else:\n",
    "            print(\"No valid data found to write to CSV.\")\n",
    "    except Exception as e:\n",
    "        print(f\"Error processing file: {e}\")"
   ]
  },
  {
   "cell_type": "code",
   "execution_count": 3,
   "metadata": {},
   "outputs": [
    {
     "name": "stdout",
     "output_type": "stream",
     "text": [
      "CSV file 'ratebeer_train.csv' already exists. Skipping conversion.\n",
      "CSV file 'ratebeer_validation.csv' already exists. Skipping conversion.\n",
      "CSV file 'ratebeer_test.csv' already exists. Skipping conversion.\n"
     ]
    }
   ],
   "source": [
    "input_file = 'ratebeer.json'\n",
    "output_file_train = 'ratebeer_train.csv'\n",
    "output_file_validation = 'ratebeer_validation.csv'\n",
    "output_file_test = 'ratebeer_test.csv'\n",
    "\n",
    "json_to_csv(input_file, output_file_train, 0, 180000)\n",
    "json_to_csv(input_file, output_file_validation, 180000, 200000)\n",
    "json_to_csv(input_file, output_file_test, 200000, 220000)"
   ]
  },
  {
   "cell_type": "markdown",
   "metadata": {},
   "source": [
    "If we convert the entire dataset into a csv file, the resulting file will be too large, thus we have decide to only use the first 20,000 samples for our project."
   ]
  },
  {
   "cell_type": "markdown",
   "metadata": {},
   "source": [
    "### Loading the dataset"
   ]
  },
  {
   "cell_type": "code",
   "execution_count": 4,
   "metadata": {},
   "outputs": [
    {
     "name": "stderr",
     "output_type": "stream",
     "text": [
      "C:\\Users\\mattq\\AppData\\Local\\Temp\\ipykernel_17228\\3369730761.py:1: DtypeWarning: Columns (1) have mixed types. Specify dtype option on import or set low_memory=False.\n",
      "  df = pd.read_csv('ratebeer_train.csv')\n"
     ]
    },
    {
     "data": {
      "text/html": [
       "<div>\n",
       "<style scoped>\n",
       "    .dataframe tbody tr th:only-of-type {\n",
       "        vertical-align: middle;\n",
       "    }\n",
       "\n",
       "    .dataframe tbody tr th {\n",
       "        vertical-align: top;\n",
       "    }\n",
       "\n",
       "    .dataframe thead th {\n",
       "        text-align: right;\n",
       "    }\n",
       "</style>\n",
       "<table border=\"1\" class=\"dataframe\">\n",
       "  <thead>\n",
       "    <tr style=\"text-align: right;\">\n",
       "      <th></th>\n",
       "      <th>beer/name</th>\n",
       "      <th>beer/beerId</th>\n",
       "      <th>beer/brewerId</th>\n",
       "      <th>beer/ABV</th>\n",
       "      <th>beer/style</th>\n",
       "      <th>review/appearance</th>\n",
       "      <th>review/aroma</th>\n",
       "      <th>review/palate</th>\n",
       "      <th>review/taste</th>\n",
       "      <th>review/overall</th>\n",
       "      <th>review/time</th>\n",
       "      <th>review/profileName</th>\n",
       "      <th>review/text</th>\n",
       "    </tr>\n",
       "  </thead>\n",
       "  <tbody>\n",
       "    <tr>\n",
       "      <th>0</th>\n",
       "      <td>John Harvards Simcoe IPA</td>\n",
       "      <td>63836</td>\n",
       "      <td>8481</td>\n",
       "      <td>5.4</td>\n",
       "      <td>India Pale Ale &amp;#40;IPA&amp;#41;</td>\n",
       "      <td>4/5</td>\n",
       "      <td>6/10</td>\n",
       "      <td>3/5</td>\n",
       "      <td>6/10</td>\n",
       "      <td>13/20</td>\n",
       "      <td>1157587200</td>\n",
       "      <td>hopdog</td>\n",
       "      <td>On tap at the Springfield, PA location. Poured...</td>\n",
       "    </tr>\n",
       "    <tr>\n",
       "      <th>1</th>\n",
       "      <td>John Harvards Simcoe IPA</td>\n",
       "      <td>63836</td>\n",
       "      <td>8481</td>\n",
       "      <td>5.4</td>\n",
       "      <td>India Pale Ale &amp;#40;IPA&amp;#41;</td>\n",
       "      <td>4/5</td>\n",
       "      <td>6/10</td>\n",
       "      <td>4/5</td>\n",
       "      <td>7/10</td>\n",
       "      <td>13/20</td>\n",
       "      <td>1157241600</td>\n",
       "      <td>TomDecapolis</td>\n",
       "      <td>On tap at the John Harvards in Springfield PA....</td>\n",
       "    </tr>\n",
       "    <tr>\n",
       "      <th>2</th>\n",
       "      <td>John Harvards Cristal Pilsner</td>\n",
       "      <td>71716</td>\n",
       "      <td>8481</td>\n",
       "      <td>5</td>\n",
       "      <td>Bohemian Pilsener</td>\n",
       "      <td>4/5</td>\n",
       "      <td>5/10</td>\n",
       "      <td>3/5</td>\n",
       "      <td>6/10</td>\n",
       "      <td>14/20</td>\n",
       "      <td>958694400</td>\n",
       "      <td>PhillyBeer2112</td>\n",
       "      <td>UPDATED: FEB 19, 2003 Springfield, PA. I've ne...</td>\n",
       "    </tr>\n",
       "    <tr>\n",
       "      <th>3</th>\n",
       "      <td>John Harvards Fancy Lawnmower Beer</td>\n",
       "      <td>64125</td>\n",
       "      <td>8481</td>\n",
       "      <td>5.4</td>\n",
       "      <td>Klsch</td>\n",
       "      <td>2/5</td>\n",
       "      <td>4/10</td>\n",
       "      <td>2/5</td>\n",
       "      <td>4/10</td>\n",
       "      <td>8/20</td>\n",
       "      <td>1157587200</td>\n",
       "      <td>TomDecapolis</td>\n",
       "      <td>On tap the Springfield PA location billed as t...</td>\n",
       "    </tr>\n",
       "    <tr>\n",
       "      <th>4</th>\n",
       "      <td>John Harvards Fancy Lawnmower Beer</td>\n",
       "      <td>64125</td>\n",
       "      <td>8481</td>\n",
       "      <td>5.4</td>\n",
       "      <td>Klsch</td>\n",
       "      <td>2/5</td>\n",
       "      <td>4/10</td>\n",
       "      <td>2/5</td>\n",
       "      <td>4/10</td>\n",
       "      <td>8/20</td>\n",
       "      <td>1157587200</td>\n",
       "      <td>hopdog</td>\n",
       "      <td>On tap at the Springfield, PA location. Poured...</td>\n",
       "    </tr>\n",
       "  </tbody>\n",
       "</table>\n",
       "</div>"
      ],
      "text/plain": [
       "                            beer/name beer/beerId  beer/brewerId beer/ABV  \\\n",
       "0            John Harvards Simcoe IPA       63836           8481      5.4   \n",
       "1            John Harvards Simcoe IPA       63836           8481      5.4   \n",
       "2       John Harvards Cristal Pilsner       71716           8481        5   \n",
       "3  John Harvards Fancy Lawnmower Beer       64125           8481      5.4   \n",
       "4  John Harvards Fancy Lawnmower Beer       64125           8481      5.4   \n",
       "\n",
       "                     beer/style review/appearance review/aroma review/palate  \\\n",
       "0  India Pale Ale &#40;IPA&#41;               4/5         6/10           3/5   \n",
       "1  India Pale Ale &#40;IPA&#41;               4/5         6/10           4/5   \n",
       "2             Bohemian Pilsener               4/5         5/10           3/5   \n",
       "3                         Klsch               2/5         4/10           2/5   \n",
       "4                         Klsch               2/5         4/10           2/5   \n",
       "\n",
       "  review/taste review/overall  review/time review/profileName  \\\n",
       "0         6/10          13/20   1157587200             hopdog   \n",
       "1         7/10          13/20   1157241600       TomDecapolis   \n",
       "2         6/10          14/20    958694400     PhillyBeer2112   \n",
       "3         4/10           8/20   1157587200       TomDecapolis   \n",
       "4         4/10           8/20   1157587200             hopdog   \n",
       "\n",
       "                                         review/text  \n",
       "0  On tap at the Springfield, PA location. Poured...  \n",
       "1  On tap at the John Harvards in Springfield PA....  \n",
       "2  UPDATED: FEB 19, 2003 Springfield, PA. I've ne...  \n",
       "3  On tap the Springfield PA location billed as t...  \n",
       "4  On tap at the Springfield, PA location. Poured...  "
      ]
     },
     "execution_count": 4,
     "metadata": {},
     "output_type": "execute_result"
    }
   ],
   "source": [
    "df = pd.read_csv('ratebeer_train.csv')\n",
    "df.head()"
   ]
  },
  {
   "cell_type": "code",
   "execution_count": 5,
   "metadata": {},
   "outputs": [
    {
     "name": "stdout",
     "output_type": "stream",
     "text": [
      "<class 'pandas.core.frame.DataFrame'>\n",
      "RangeIndex: 180000 entries, 0 to 179999\n",
      "Data columns (total 13 columns):\n",
      " #   Column              Non-Null Count   Dtype \n",
      "---  ------              --------------   ----- \n",
      " 0   beer/name           180000 non-null  object\n",
      " 1   beer/beerId         180000 non-null  object\n",
      " 2   beer/brewerId       180000 non-null  int64 \n",
      " 3   beer/ABV            180000 non-null  object\n",
      " 4   beer/style          180000 non-null  object\n",
      " 5   review/appearance   180000 non-null  object\n",
      " 6   review/aroma        180000 non-null  object\n",
      " 7   review/palate       180000 non-null  object\n",
      " 8   review/taste        180000 non-null  object\n",
      " 9   review/overall      180000 non-null  object\n",
      " 10  review/time         180000 non-null  int64 \n",
      " 11  review/profileName  180000 non-null  object\n",
      " 12  review/text         179804 non-null  object\n",
      "dtypes: int64(2), object(11)\n",
      "memory usage: 17.9+ MB\n"
     ]
    }
   ],
   "source": [
    "df.info()"
   ]
  },
  {
   "cell_type": "code",
   "execution_count": 6,
   "metadata": {},
   "outputs": [
    {
     "data": {
      "text/html": [
       "<div>\n",
       "<style scoped>\n",
       "    .dataframe tbody tr th:only-of-type {\n",
       "        vertical-align: middle;\n",
       "    }\n",
       "\n",
       "    .dataframe tbody tr th {\n",
       "        vertical-align: top;\n",
       "    }\n",
       "\n",
       "    .dataframe thead th {\n",
       "        text-align: right;\n",
       "    }\n",
       "</style>\n",
       "<table border=\"1\" class=\"dataframe\">\n",
       "  <thead>\n",
       "    <tr style=\"text-align: right;\">\n",
       "      <th></th>\n",
       "      <th>beer/brewerId</th>\n",
       "      <th>review/time</th>\n",
       "    </tr>\n",
       "  </thead>\n",
       "  <tbody>\n",
       "    <tr>\n",
       "      <th>count</th>\n",
       "      <td>180000.000000</td>\n",
       "      <td>1.800000e+05</td>\n",
       "    </tr>\n",
       "    <tr>\n",
       "      <th>mean</th>\n",
       "      <td>2128.656489</td>\n",
       "      <td>1.209006e+09</td>\n",
       "    </tr>\n",
       "    <tr>\n",
       "      <th>std</th>\n",
       "      <td>2932.221422</td>\n",
       "      <td>8.035252e+07</td>\n",
       "    </tr>\n",
       "    <tr>\n",
       "      <th>min</th>\n",
       "      <td>1.000000</td>\n",
       "      <td>9.564480e+08</td>\n",
       "    </tr>\n",
       "    <tr>\n",
       "      <th>25%</th>\n",
       "      <td>395.000000</td>\n",
       "      <td>1.155341e+09</td>\n",
       "    </tr>\n",
       "    <tr>\n",
       "      <th>50%</th>\n",
       "      <td>1158.000000</td>\n",
       "      <td>1.217808e+09</td>\n",
       "    </tr>\n",
       "    <tr>\n",
       "      <th>75%</th>\n",
       "      <td>2554.000000</td>\n",
       "      <td>1.276387e+09</td>\n",
       "    </tr>\n",
       "    <tr>\n",
       "      <th>max</th>\n",
       "      <td>13874.000000</td>\n",
       "      <td>1.326413e+09</td>\n",
       "    </tr>\n",
       "  </tbody>\n",
       "</table>\n",
       "</div>"
      ],
      "text/plain": [
       "       beer/brewerId   review/time\n",
       "count  180000.000000  1.800000e+05\n",
       "mean     2128.656489  1.209006e+09\n",
       "std      2932.221422  8.035252e+07\n",
       "min         1.000000  9.564480e+08\n",
       "25%       395.000000  1.155341e+09\n",
       "50%      1158.000000  1.217808e+09\n",
       "75%      2554.000000  1.276387e+09\n",
       "max     13874.000000  1.326413e+09"
      ]
     },
     "execution_count": 6,
     "metadata": {},
     "output_type": "execute_result"
    }
   ],
   "source": [
    "df.describe()"
   ]
  },
  {
   "cell_type": "code",
   "execution_count": 7,
   "metadata": {},
   "outputs": [
    {
     "data": {
      "text/plain": [
       "beer/name               0\n",
       "beer/beerId             0\n",
       "beer/brewerId           0\n",
       "beer/ABV                0\n",
       "beer/style              0\n",
       "review/appearance       0\n",
       "review/aroma            0\n",
       "review/palate           0\n",
       "review/taste            0\n",
       "review/overall          0\n",
       "review/time             0\n",
       "review/profileName      0\n",
       "review/text           196\n",
       "dtype: int64"
      ]
     },
     "execution_count": 7,
     "metadata": {},
     "output_type": "execute_result"
    }
   ],
   "source": [
    "df.isnull().sum()"
   ]
  },
  {
   "cell_type": "code",
   "execution_count": 8,
   "metadata": {},
   "outputs": [
    {
     "name": "stdout",
     "output_type": "stream",
     "text": [
      "No. of unique beers in train data: 7694\n",
      "Average no. of reviews per beer: 23.394853132310892\n",
      "No. of unique users: 9224\n",
      "Average no. of reviews per user: 19.514310494362533\n",
      "No. of unique breweries: 545\n",
      "Average no. of reviews per brewer: 330.27522935779814\n",
      "No. of rows: 180000\n",
      "No. of cols: 13\n"
     ]
    }
   ],
   "source": [
    "num_beers = df['beer/beerId'].nunique()\n",
    "print(\"No. of unique beers in train data: \" + str(num_beers))\n",
    "\n",
    "avg_reviews_per_beer = df.groupby('beer/beerId').size().mean()\n",
    "print(\"Average no. of reviews per beer: \" + str(avg_reviews_per_beer))\n",
    "\n",
    "num_users = df['review/profileName'].nunique()\n",
    "print(\"No. of unique users: \" + str(num_users))\n",
    "\n",
    "avg_reviews_per_user = df.groupby('review/profileName').size().mean()\n",
    "print(\"Average no. of reviews per user: \" + str(avg_reviews_per_user))\n",
    "\n",
    "num_brewers = df['beer/brewerId'].nunique()\n",
    "print(\"No. of unique breweries: \" + str(num_brewers))\n",
    "\n",
    "avg_reviews_per_brewer = df.groupby('beer/brewerId').size().mean()\n",
    "print(\"Average no. of reviews per brewer: \" + str(avg_reviews_per_brewer))\n",
    "\n",
    "shape = df.shape\n",
    "\n",
    "print(f\"No. of rows: {shape[0]}\")\n",
    "print(f\"No. of cols: {shape[1]}\")"
   ]
  },
  {
   "cell_type": "markdown",
   "metadata": {},
   "source": [
    "## 2. Identify a Predictive Task on our Dataset\n",
    "\n",
    "For this dataset, our group decide to make a predictor for the overall rating of a beer, based on the text review of the users.\n"
   ]
  },
  {
   "cell_type": "code",
   "execution_count": null,
   "metadata": {},
   "outputs": [],
   "source": [
    "\n",
    "\n",
    "from sklearn import linear_model\n",
    "from textblob import TextBlob\n",
    "import numpy as np\n",
    "from csv import DictReader\n",
    "\n",
    "# Load training data\n",
    "trainData = []\n",
    "with open('ratebeer_train.csv', 'r') as f:\n",
    "    dict_reader = DictReader(f)\n",
    "    trainData = list(dict_reader)\n",
    "\n",
    "# Use library to get sentiment\n",
    "def feature(datum):\n",
    "    blob = TextBlob(datum['review/text'])\n",
    "    return blob.sentiment.polarity\n",
    "\n",
    "# Convert 'X/20' format to float\n",
    "def floatRating(datum):\n",
    "    return (float(datum['review/overall'].split('/')[0])*.05)\n",
    "\n",
    "# Train linear model\n",
    "polarities = [feature(d) for d in trainData]\n",
    "ratings = [floatRating(d) for d in trainData]\n",
    "\n",
    "X = np.array([[1,p] for p in polarities])\n",
    "Y = np.array(ratings).T\n",
    "\n",
    "model = linear_model.LinearRegression(fit_intercept=False)\n",
    "model.fit(X, Y)\n",
    "\n",
    "y_pred = np.array(model.predict(X))\n",
    "sse = sum([x**2 for x in (Y - y_pred)])\n",
    "mse = sse / len(Y)"
   ]
  },
  {
   "cell_type": "code",
   "execution_count": null,
   "metadata": {},
   "outputs": [
    {
     "name": "stdout",
     "output_type": "stream",
     "text": [
      "0.015543805789271206\n",
      "[0.64719316 0.76859969 0.6828643  0.70820972 0.68544715]\n",
      "[0.65 0.75 0.55 0.65 0.85]\n"
     ]
    }
   ],
   "source": [
    "# Load validation set\n",
    "validationData = []\n",
    "with open('ratebeer_validation.csv', 'r') as f:\n",
    "    dict_reader = DictReader(f)\n",
    "    validationData = list(dict_reader)\n",
    "\n",
    "polarities = [feature(d) for d in validationData]\n",
    "ratings = [floatRating(d) for d in validationData]\n",
    "\n",
    "X = np.array([[1,p] for p in polarities])\n",
    "Y = np.array(ratings).T\n",
    "\n",
    "#Round predicition to nearest X/20\n",
    "# def roundPrediction(p):\n",
    "#     return round(p * 20) / 20\n",
    "\n",
    "y_pred = np.array(model.predict(X))\n",
    "sse = sum([x**2 for x in (Y - y_pred)])\n",
    "mse = sse / len(Y)\n",
    "print(mse)\n",
    "\n",
    "print(y_pred[:5])\n",
    "print(Y[:5])"
   ]
  }
 ],
 "metadata": {
  "kernelspec": {
   "display_name": "Python 3",
   "language": "python",
   "name": "python3"
  },
  "language_info": {
   "codemirror_mode": {
    "name": "ipython",
    "version": 3
   },
   "file_extension": ".py",
   "mimetype": "text/x-python",
   "name": "python",
   "nbconvert_exporter": "python",
   "pygments_lexer": "ipython3",
   "version": "3.11.9"
  }
 },
 "nbformat": 4,
 "nbformat_minor": 2
}
